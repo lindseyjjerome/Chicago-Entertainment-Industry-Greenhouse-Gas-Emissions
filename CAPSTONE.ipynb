{
 "cells": [
  {
   "cell_type": "markdown",
   "metadata": {},
   "source": [
    "# Chicago Energy Benchmarking Analysis"
   ]
  },
  {
   "cell_type": "markdown",
   "metadata": {},
   "source": [
    "## Step 1: Libraries Required"
   ]
  },
  {
   "cell_type": "code",
   "execution_count": 6,
   "metadata": {},
   "outputs": [],
   "source": [
    "import matplotlib as mpl\n",
    "import matplotlib.pyplot as plt\n",
    "import matplotlib.dates as mdates\n",
    "from matplotlib.dates import DateFormatter \n",
    "import numpy as np \n",
    "%matplotlib inline\n",
    "\n",
    "import seaborn as sns\n",
    "import pandas as pd\n",
    "import statsmodels.formula.api as smf\n"
   ]
  },
  {
   "cell_type": "markdown",
   "metadata": {},
   "source": [
    "---------------------------------------------------------------------------"
   ]
  },
  {
   "cell_type": "markdown",
   "metadata": {},
   "source": [
    "## Step 2: Import Dataset"
   ]
  },
  {
   "cell_type": "code",
   "execution_count": 7,
   "metadata": {
    "scrolled": false
   },
   "outputs": [
    {
     "name": "stdout",
     "output_type": "stream",
     "text": [
      "       Data Year      ID                            Property Name  \\\n",
      "0           2018  101751                                      NaN   \n",
      "1           2018  161147                             72 E 11th St   \n",
      "2           2017  159111        Aurora Chicago Lakeshore Hospital   \n",
      "3           2016  146897                           Vision Rentals   \n",
      "4           2016  175120   Polish Roman Catholic Union of America   \n",
      "...          ...     ...                                      ...   \n",
      "10703       2017  159897                                Shoreland   \n",
      "10704       2016  102452                       Regenstein Library   \n",
      "10705       2017  158219                        Chicago Swissotel   \n",
      "10706       2016  227642  Granville Beach Condominium Association   \n",
      "10707       2017  174260                  Bridgeview Bank- Uptown   \n",
      "\n",
      "      Reporting Status                Address ZIP Code  Chicago Energy Rating  \\\n",
      "0               Exempt  7500 S SOUTH SHORE DR    60649                    NaN   \n",
      "1        Not Submitted           72 E 11th St    60605                    0.0   \n",
      "2            Submitted   4840 N. Marine Drive    60640                    NaN   \n",
      "3            Submitted    1624 W. Division St    60622                    NaN   \n",
      "4            Submitted   984 N. Milwaukee Ave    60642                    NaN   \n",
      "...                ...                    ...      ...                    ...   \n",
      "10703        Submitted     5454 S Shore Drive    60615                    NaN   \n",
      "10704        Submitted  1100 East 57th Street    60637                    NaN   \n",
      "10705        Submitted  323 East Wacker Drive    60601                    NaN   \n",
      "10706        Submitted    6171 N Sheridan Rd.    60660                    NaN   \n",
      "10707        Submitted     4753 N Broadway St    60640                    NaN   \n",
      "\n",
      "      Exempt From Chicago Energy Rating Community Area  \\\n",
      "0                                  True    SOUTH SHORE   \n",
      "1                                 False           LOOP   \n",
      "2                                   NaN         UPTOWN   \n",
      "3                                   NaN      WEST TOWN   \n",
      "4                                   NaN      WEST TOWN   \n",
      "...                                 ...            ...   \n",
      "10703                               NaN      HYDE PARK   \n",
      "10704                               NaN      HYDE PARK   \n",
      "10705                               NaN           LOOP   \n",
      "10706                               NaN      EDGEWATER   \n",
      "10707                               NaN         UPTOWN   \n",
      "\n",
      "            Primary Property Type  ... All Other Fuel Use (kBtu)  \\\n",
      "0                             NaN  ...                       NaN   \n",
      "1                             NaN  ...                       NaN   \n",
      "2      Other - Specialty Hospital  ...                       NaN   \n",
      "3             Multifamily Housing  ...                       NaN   \n",
      "4                          Office  ...                       NaN   \n",
      "...                           ...  ...                       ...   \n",
      "10703         Multifamily Housing  ...                       NaN   \n",
      "10704                     Library  ...                       NaN   \n",
      "10705                       Hotel  ...                       NaN   \n",
      "10706         Multifamily Housing  ...                       NaN   \n",
      "10707                      Office  ...                       NaN   \n",
      "\n",
      "       Site EUI (kBtu/sq ft)  Source EUI (kBtu/sq ft)  \\\n",
      "0                        NaN                      NaN   \n",
      "1                        NaN                      NaN   \n",
      "2                        NaN                      NaN   \n",
      "3                        NaN                      NaN   \n",
      "4                        NaN                      NaN   \n",
      "...                      ...                      ...   \n",
      "10703                   38.6                     71.8   \n",
      "10704                  151.4                    256.7   \n",
      "10705                  114.1                    226.1   \n",
      "10706                   88.1                      122   \n",
      "10707                   78.3                    145.1   \n",
      "\n",
      "      Weather Normalized Site EUI (kBtu/sq ft)  \\\n",
      "0                                          NaN   \n",
      "1                                          NaN   \n",
      "2                                          NaN   \n",
      "3                                          NaN   \n",
      "4                                          NaN   \n",
      "...                                        ...   \n",
      "10703                                     40.8   \n",
      "10704                                    153.1   \n",
      "10705                                    117.5   \n",
      "10706                                     95.9   \n",
      "10707                                     82.4   \n",
      "\n",
      "       Weather Normalized Source EUI (kBtu/sq ft)  \\\n",
      "0                                             NaN   \n",
      "1                                             NaN   \n",
      "2                                             NaN   \n",
      "3                                             NaN   \n",
      "4                                             NaN   \n",
      "...                                           ...   \n",
      "10703                                        74.8   \n",
      "10704                                       258.8   \n",
      "10705                                       229.5   \n",
      "10706                                       129.5   \n",
      "10707                                         149   \n",
      "\n",
      "      Total GHG Emissions (Metric Tons CO2e) GHG Intensity (kg CO2e/sq ft)  \\\n",
      "0                                        NaN                           NaN   \n",
      "1                                        NaN                           NaN   \n",
      "2                                        NaN                           NaN   \n",
      "3                                        NaN                           NaN   \n",
      "4                                        NaN                           NaN   \n",
      "...                                      ...                           ...   \n",
      "10703                                2,570.1                           4.0   \n",
      "10704                                8,799.4                          14.5   \n",
      "10705                                9,058.9                          12.8   \n",
      "10706                                2,491.3                           6.5   \n",
      "10707                                1,344.3                           8.1   \n",
      "\n",
      "        Latitude  Longitude                     Location  \n",
      "0      41.762592 -87.572316  (41.76259226, -87.57231648)  \n",
      "1      41.869545 -87.625089  (41.86954547, -87.62508911)  \n",
      "2      41.970305 -87.650578  (41.97030477, -87.65057835)  \n",
      "3      41.902254 -87.684478  (41.90225377, -87.68447845)  \n",
      "4      41.899405 -87.661433  (41.89940453, -87.66143331)  \n",
      "...          ...        ...                          ...  \n",
      "10703  41.796235 -87.581504  (41.79623549, -87.58150358)  \n",
      "10704  41.792213 -87.599950  (41.79221307, -87.59994981)  \n",
      "10705  41.887335 -87.619490  (41.88733545, -87.61948961)  \n",
      "10706  41.994444 -87.654872  (41.99444431, -87.65487158)  \n",
      "10707  41.968737 -87.659172  (41.96873677, -87.65917186)  \n",
      "\n",
      "[10708 rows x 29 columns]\n"
     ]
    }
   ],
   "source": [
    "df = pd.read_csv('full_import.csv', header=0)\n",
    "print(df)"
   ]
  },
  {
   "cell_type": "markdown",
   "metadata": {},
   "source": [
    "---------------------------------------------------------------------------"
   ]
  },
  {
   "cell_type": "markdown",
   "metadata": {},
   "source": [
    "## Step 3: Data Cleansing"
   ]
  },
  {
   "cell_type": "code",
   "execution_count": 8,
   "metadata": {},
   "outputs": [
    {
     "name": "stdout",
     "output_type": "stream",
     "text": [
      "[nan 'Other - Specialty Hospital' 'Multifamily Housing' 'Office'\n",
      " 'Other - Lodging/Residential' 'Strip Mall' 'Library' 'Other'\n",
      " 'K-12 School' 'Retail Store' 'Residence Hall/Dormitory'\n",
      " 'Hospital (General Medical & Surgical)' 'Museum' 'Performing Arts'\n",
      " 'Mixed Use Property' 'College/University' 'Other - Recreation' 'Hotel'\n",
      " 'Laboratory' 'Senior Care Community' 'Residential Care Facility'\n",
      " 'Enclosed Mall' 'Supermarket/Grocery Store' 'Financial Office'\n",
      " 'Automobile Dealership' 'Wholesale Club/Supercenter' 'Medical Office'\n",
      " 'Courthouse' 'Ice/Curling Rink' 'Other - Mall' 'Pre-school/Daycare'\n",
      " 'Other - Entertainment/Public Assembly' 'Worship Facility'\n",
      " 'Fitness Center/Health Club/Gym' 'Adult Education' 'Bank Branch'\n",
      " 'Repair Services (Vehicle, Shoe, Locksmith, etc.)'\n",
      " 'Outpatient Rehabilitation/Physical Therapy' 'Social/Meeting Hall'\n",
      " 'Movie Theater' 'Other - Public Services' 'Ambulatory Surgical Center'\n",
      " 'Lifestyle Center' 'Convention Center' 'Prison/Incarceration'\n",
      " 'Not Available' 'Other - Education' 'Other - Services'\n",
      " 'Urgent Care/Clinic/Other Outpatient' 'Indoor Arena' 'Stadium (Open)'\n",
      " 'Distribution Center']\n"
     ]
    }
   ],
   "source": [
    "#Identify the unique property type values that currently exist within the data frame. \n",
    "print(df['Primary Property Type'].unique())"
   ]
  },
  {
   "cell_type": "code",
   "execution_count": 9,
   "metadata": {
    "scrolled": false
   },
   "outputs": [
    {
     "name": "stdout",
     "output_type": "stream",
     "text": [
      "       Data Year      ID                 Property Name Reporting Status  \\\n",
      "67          2017  160196  The Art Institute of Chicago        Submitted   \n",
      "70          2018  175495        House of Blues Chicago        Submitted   \n",
      "110         2018  250034               Broadway Armory        Submitted   \n",
      "126         2015  252091         1301 East 47th Street        Submitted   \n",
      "187         2015  138872         Windy City Fieldhouse        Submitted   \n",
      "...          ...     ...                           ...              ...   \n",
      "10586       2017  252126          08270 - Ford City 14        Submitted   \n",
      "10599       2017  165062             Adler Planetarium        Submitted   \n",
      "10600       2015  175872                 Piper's Alley        Submitted   \n",
      "10648       2017  252058             Logan Arts Center        Submitted   \n",
      "10654       2017  165606    Museum of Contemporary Art        Submitted   \n",
      "\n",
      "                        Address ZIP Code  Chicago Energy Rating  \\\n",
      "67       111 South Michigan Ave    60603                    NaN   \n",
      "70          329 N. Dearborn St.    60654                    2.0   \n",
      "110         5917 North Broadway    60660                    2.0   \n",
      "126       1301 East 47th Street    60653                    NaN   \n",
      "187        2367 West Logan Blvd    60647                    NaN   \n",
      "...                         ...      ...                    ...   \n",
      "10586  7601 South Cicero Avenue    60652                    NaN   \n",
      "10599     1300 S. Lakeshore Dr.    60605                    NaN   \n",
      "10600       230 W. North Avenue    60610                    NaN   \n",
      "10648            915 E 60th St.    60637                    NaN   \n",
      "10654     220 E. Chicago Avenue    60611                    NaN   \n",
      "\n",
      "      Exempt From Chicago Energy Rating   Community Area  \\\n",
      "67                                  NaN             LOOP   \n",
      "70                                False  NEAR NORTH SIDE   \n",
      "110                               False        EDGEWATER   \n",
      "126                                 NaN          KENWOOD   \n",
      "187                                 NaN     LOGAN SQUARE   \n",
      "...                                 ...              ...   \n",
      "10586                               NaN        WEST LAWN   \n",
      "10599                               NaN  NEAR SOUTH SIDE   \n",
      "10600                               NaN     LINCOLN PARK   \n",
      "10648                               NaN         WOODLAWN   \n",
      "10654                               NaN  NEAR NORTH SIDE   \n",
      "\n",
      "      Primary Property Type  ... All Other Fuel Use (kBtu)  \\\n",
      "67                   Museum  ...                       NaN   \n",
      "70          Performing Arts  ...                       NaN   \n",
      "110      Other - Recreation  ...                       NaN   \n",
      "126      Other - Recreation  ...                       NaN   \n",
      "187      Other - Recreation  ...                       NaN   \n",
      "...                     ...  ...                       ...   \n",
      "10586         Movie Theater  ...                       NaN   \n",
      "10599                Museum  ...                       NaN   \n",
      "10600       Performing Arts  ...                       NaN   \n",
      "10648       Performing Arts  ...                       NaN   \n",
      "10654                Museum  ...                       NaN   \n",
      "\n",
      "       Site EUI (kBtu/sq ft)  Source EUI (kBtu/sq ft)  \\\n",
      "67                     242.9                      431   \n",
      "70                     213.9                    455.9   \n",
      "110                     77.7                    128.3   \n",
      "126                     39.7                      123   \n",
      "187                     69.5                    149.1   \n",
      "...                      ...                      ...   \n",
      "10586                  161.9                    376.5   \n",
      "10599                  135.1                    314.3   \n",
      "10600                8,059.6                    8,552   \n",
      "10648                  203.5                    304.9   \n",
      "10654                   90.2                    210.5   \n",
      "\n",
      "      Weather Normalized Site EUI (kBtu/sq ft)  \\\n",
      "67                                       247.3   \n",
      "70                                       213.9   \n",
      "110                                         78   \n",
      "126                                       39.8   \n",
      "187                                       72.4   \n",
      "...                                        ...   \n",
      "10586                                      166   \n",
      "10599                                    143.2   \n",
      "10600                                  8,059.1   \n",
      "10648                                    208.7   \n",
      "10654                                       90   \n",
      "\n",
      "       Weather Normalized Source EUI (kBtu/sq ft)  \\\n",
      "67                                            435   \n",
      "70                                          455.9   \n",
      "110                                         128.1   \n",
      "126                                         123.1   \n",
      "187                                         151.9   \n",
      "...                                           ...   \n",
      "10586                                       379.4   \n",
      "10599                                       321.6   \n",
      "10600                                     8,550.4   \n",
      "10648                                         311   \n",
      "10654                                         210   \n",
      "\n",
      "      Total GHG Emissions (Metric Tons CO2e) GHG Intensity (kg CO2e/sq ft)  \\\n",
      "67                                  24,200.3                          24.0   \n",
      "70                                   1,437.6                          26.3   \n",
      "110                                  1,122.4                           7.1   \n",
      "126                                      723                           7.9   \n",
      "187                                      526                           9.1   \n",
      "...                                      ...                           ...   \n",
      "10586                                1,568.6                          21.6   \n",
      "10599                                2,472.9                          18.1   \n",
      "10600                                 59,590                         434.4   \n",
      "10648                                3,236.2                          17.1   \n",
      "10654                                3,627.5                          12.1   \n",
      "\n",
      "        Latitude  Longitude                     Location  \n",
      "67     41.880452 -87.624229      (41.880452, -87.624229)  \n",
      "70     41.888333 -87.629504  (41.88833261, -87.62950362)  \n",
      "110    41.989141 -87.659670   (41.9891405, -87.65967018)  \n",
      "126    41.809171 -87.593955  (41.80917058, -87.59395543)  \n",
      "187    41.928927 -87.687324  (41.92892652, -87.68732392)  \n",
      "...          ...        ...                          ...  \n",
      "10586  41.755829 -87.736993  (41.75582921, -87.73699268)  \n",
      "10599  41.866372 -87.606609  (41.86637151, -87.60660909)  \n",
      "10600  41.911539 -87.636169  (41.91153938, -87.63616909)  \n",
      "10648  41.785854 -87.603817      (41.785854, -87.603817)  \n",
      "10654  41.897225 -87.621048   (41.89722484, -87.6210481)  \n",
      "\n",
      "[178 rows x 29 columns]\n"
     ]
    }
   ],
   "source": [
    "#Remove unrelated property types\n",
    "\n",
    "df = df.loc[~df['Primary Property Type'].isin(['Other - Specialty Hospital', 'Multifamily Housing', 'Other - Lodging/Residential',\n",
    " 'Strip Mall', 'Library', 'Other', 'K-12 School', 'Retail Store',\n",
    " 'Residence Hall/Dormitory', 'Hospital (General Medical & Surgical)',\n",
    " 'Mixed Use Property', 'College/University',\n",
    "  'Laboratory', 'Senior Care Community',\n",
    " 'Residential Care Facility', 'Enclosed Mall', 'Supermarket/Grocery Store'\n",
    " 'Financial Office', 'Automobile Dealership', 'Wholesale Club/Supercenter',\n",
    " 'Medical Office', 'Courthouse', 'Other - Mall',\n",
    " 'Pre-school/Daycare', \n",
    " 'Worship Facility', 'Fitness Center/Health Club/Gym', 'Adult Education',\n",
    " 'Bank Branch', 'Repair Services (Vehicle, Shoe, Locksmith, etc.)',\n",
    " 'Outpatient Rehabilitation/Physical Therapy', \n",
    "'Other - Public Services', 'Ambulatory Surgical Center',\n",
    " 'Prison/Incarceration',\n",
    " 'Not Available', 'Other - Education', 'Other - Services',\n",
    " 'Urgent Care/Clinic/Other Outpatient', \n",
    " 'Distribution Center', 'Office', 'Hotel', 'Lifestyle Center', 'Supermarket/Grocery Store', 'Financial Office'])]\n",
    "\n",
    "#The property types we're looking at are: 'Museum' 'Performing Arts' 'Indoor Arena' 'Stadium (Open)''Other - Recreation''Ice/Curling Rink''Other - Entertainment/Public Assembly''Social/Meeting Hall' 'Movie Theater'  'Convention Center'\n",
    "\n",
    "#Finally, remove rows that have an NA value for Primary Property type, leaving only the 10 property types above.  \n",
    "df.dropna(subset = [\"Primary Property Type\"], inplace=True)\n",
    "\n",
    "\n",
    "print(df)\n"
   ]
  },
  {
   "cell_type": "code",
   "execution_count": 10,
   "metadata": {},
   "outputs": [],
   "source": [
    "#Ensure that variables of interest are numeric. \n",
    "df['Electricity Use (kBtu)'] = pd.to_numeric(df['Electricity Use (kBtu)'],errors='coerce')\n",
    "df['Natural Gas Use (kBtu)'] = pd.to_numeric(df['Natural Gas Use (kBtu)'],errors='coerce')\n",
    "df['District Steam Use (kBtu)'] = pd.to_numeric(df['District Steam Use (kBtu)'],errors='coerce')\n",
    "df['District Chilled Water Use (kBtu)'] = pd.to_numeric(df['District Chilled Water Use (kBtu)'],errors='coerce')\n",
    "df['All Other Fuel Use (kBtu)'] = pd.to_numeric(df['All Other Fuel Use (kBtu)'],errors='coerce')\n",
    "\n",
    "#It was decided that GHG intensity would be the primary focus of this analysis, as fuel, water, and electricity use are not in terms of intensity, and are largely based solely on the size of the building rather than the environmental decisions made by property owners.    "
   ]
  },
  {
   "cell_type": "code",
   "execution_count": 11,
   "metadata": {},
   "outputs": [
    {
     "name": "stdout",
     "output_type": "stream",
     "text": [
      "['Museum' 'Performing Arts' 'Other - Recreation' 'Ice/Curling Rink'\n",
      " 'Other - Entertainment/Public Assembly' 'Social/Meeting Hall'\n",
      " 'Movie Theater' 'Convention Center' 'Indoor Arena' 'Stadium (Open)']\n"
     ]
    }
   ],
   "source": [
    "#Ensure these are the only property types remaining. We are looking for: 'Museum' 'Performing Arts' 'Other - Recreation' 'Ice/Curling Rink''Other - Entertainment/Public Assembly' 'Social/Meeting Hall''Movie Theater' 'Convention Center' 'Indoor Arena' and 'Stadium (Open)'  \n",
    "print(df['Primary Property Type'].unique())"
   ]
  },
  {
   "cell_type": "code",
   "execution_count": 12,
   "metadata": {},
   "outputs": [],
   "source": [
    "#Remove columns that will not be used in this analysis to better visualize dataframe \n",
    "del df['Latitude']\n",
    "del df['Longitude']\n",
    "del df['Total GHG Emissions (Metric Tons CO2e)']\n",
    "del df['Location']\n",
    "del df['ID']\n",
    "del df['Reporting Status']\n",
    "del df['Address']\n",
    "del df['Chicago Energy Rating']\n",
    "del df['Exempt From Chicago Energy Rating']\n",
    "del df['Site EUI (kBtu/sq ft)']\n",
    "del df['Source EUI (kBtu/sq ft)']\n",
    "del df['Weather Normalized Site EUI (kBtu/sq ft)']\n",
    "del df['Weather Normalized Source EUI (kBtu/sq ft)']\n",
    "del df['# of Buildings']\n",
    "del df['Gross Floor Area - Buildings (sq ft)']\n",
    "del df['Year Built']\n",
    "del df['ENERGY STAR Score']\n"
   ]
  },
  {
   "cell_type": "code",
   "execution_count": 13,
   "metadata": {},
   "outputs": [
    {
     "name": "stdout",
     "output_type": "stream",
     "text": [
      "<bound method NDFrame.head of        Data Year                 Property Name ZIP Code   Community Area  \\\n",
      "67          2017  The Art Institute of Chicago    60603             LOOP   \n",
      "70          2018        House of Blues Chicago    60654  NEAR NORTH SIDE   \n",
      "110         2018               Broadway Armory    60660        EDGEWATER   \n",
      "126         2015         1301 East 47th Street    60653          KENWOOD   \n",
      "187         2015         Windy City Fieldhouse    60647     LOGAN SQUARE   \n",
      "...          ...                           ...      ...              ...   \n",
      "10586       2017          08270 - Ford City 14    60652        WEST LAWN   \n",
      "10599       2017             Adler Planetarium    60605  NEAR SOUTH SIDE   \n",
      "10600       2015                 Piper's Alley    60610     LINCOLN PARK   \n",
      "10648       2017             Logan Arts Center    60637         WOODLAWN   \n",
      "10654       2017    Museum of Contemporary Art    60611  NEAR NORTH SIDE   \n",
      "\n",
      "      Primary Property Type Water Use (kGal)  Electricity Use (kBtu)  \\\n",
      "67                   Museum              NaN                     NaN   \n",
      "70          Performing Arts           27,245                     NaN   \n",
      "110      Other - Recreation            1,286                     NaN   \n",
      "126      Other - Recreation              NaN                     NaN   \n",
      "187      Other - Recreation              NaN                     NaN   \n",
      "...                     ...              ...                     ...   \n",
      "10586         Movie Theater              NaN                     NaN   \n",
      "10599                Museum              NaN                     NaN   \n",
      "10600       Performing Arts              NaN                     NaN   \n",
      "10648       Performing Arts              NaN                     NaN   \n",
      "10654                Museum              NaN                     NaN   \n",
      "\n",
      "       Natural Gas Use (kBtu)  District Steam Use (kBtu)  \\\n",
      "67                        NaN                        NaN   \n",
      "70                        NaN                        NaN   \n",
      "110                       NaN                        NaN   \n",
      "126                       NaN                        NaN   \n",
      "187                       NaN                        NaN   \n",
      "...                       ...                        ...   \n",
      "10586                     NaN                        NaN   \n",
      "10599                     NaN                        NaN   \n",
      "10600                     NaN                        NaN   \n",
      "10648                     NaN                        NaN   \n",
      "10654                     NaN                        NaN   \n",
      "\n",
      "       District Chilled Water Use (kBtu)  All Other Fuel Use (kBtu)  \\\n",
      "67                                   NaN                        NaN   \n",
      "70                                   NaN                        NaN   \n",
      "110                                  NaN                        NaN   \n",
      "126                                  NaN                        NaN   \n",
      "187                                  NaN                        NaN   \n",
      "...                                  ...                        ...   \n",
      "10586                                NaN                        NaN   \n",
      "10599                                NaN                        NaN   \n",
      "10600                                NaN                        NaN   \n",
      "10648                                NaN                        NaN   \n",
      "10654                                NaN                        NaN   \n",
      "\n",
      "       GHG Intensity (kg CO2e/sq ft)  \n",
      "67                              24.0  \n",
      "70                              26.3  \n",
      "110                              7.1  \n",
      "126                              7.9  \n",
      "187                              9.1  \n",
      "...                              ...  \n",
      "10586                           21.6  \n",
      "10599                           18.1  \n",
      "10600                          434.4  \n",
      "10648                           17.1  \n",
      "10654                           12.1  \n",
      "\n",
      "[178 rows x 12 columns]>\n"
     ]
    }
   ],
   "source": [
    "#Below please find the colums that remain in the dataframe (and size of df) for the following property types: 'Museum' 'Performing Arts' 'Other - Recreation' 'Ice/Curling Rink''Other - Entertainment/Public Assembly' 'Social/Meeting Hall''Movie Theater' 'Convention Center' 'Indoor Arena' and 'Stadium (Open)'\n",
    "print(df.head)"
   ]
  },
  {
   "cell_type": "markdown",
   "metadata": {},
   "source": [
    "---------------------------------------------------------------------------"
   ]
  },
  {
   "cell_type": "markdown",
   "metadata": {},
   "source": [
    "## Step 4) Issues/Hypothesis to Explore \n",
    "### Problem Statment: Where should Chicago investors and other monetary supporters of cultural arts and entertainment provide 5M in capital to Chicago cultural and community hubs while simultaneously supporting sustainability initiatives in 2021?\n",
    "   #### A) Which propety type in the Chicago cultural/entertainment industry produces the lowest median GHG intensity?\n",
    "   #### B) Which of the businesses within this property type produces the lowest median GHG intensity?"
   ]
  },
  {
   "cell_type": "markdown",
   "metadata": {},
   "source": [
    "## Step 4a: Identify the most environmentally-friendly (entertainment-related) property type in Chicago"
   ]
  },
  {
   "cell_type": "code",
   "execution_count": 14,
   "metadata": {
    "scrolled": true
   },
   "outputs": [
    {
     "name": "stdout",
     "output_type": "stream",
     "text": [
      "                                      count unique     top freq\n",
      "Primary Property Type                                          \n",
      "Convention Center                         0      0     NaN  NaN\n",
      "Ice/Curling Rink                          1      1   5,724    1\n",
      "Indoor Arena                              1      1  12,929    1\n",
      "Movie Theater                             3      3     987    1\n",
      "Museum                                    5      5     186    1\n",
      "Other - Entertainment/Public Assembly     4      4     836    1\n",
      "Other - Recreation                       14     14   1,286    1\n",
      "Performing Arts                           5      5   1,477    1\n",
      "Social/Meeting Hall                       1      1   6,467    1\n",
      "Stadium (Open)                            0      0     NaN  NaN\n",
      "                                       count  mean  std  min  25%  50%  75%  \\\n",
      "Primary Property Type                                                         \n",
      "Convention Center                        0.0   NaN  NaN  NaN  NaN  NaN  NaN   \n",
      "Ice/Curling Rink                         0.0   NaN  NaN  NaN  NaN  NaN  NaN   \n",
      "Indoor Arena                             0.0   NaN  NaN  NaN  NaN  NaN  NaN   \n",
      "Movie Theater                            0.0   NaN  NaN  NaN  NaN  NaN  NaN   \n",
      "Museum                                   0.0   NaN  NaN  NaN  NaN  NaN  NaN   \n",
      "Other - Entertainment/Public Assembly    0.0   NaN  NaN  NaN  NaN  NaN  NaN   \n",
      "Other - Recreation                       0.0   NaN  NaN  NaN  NaN  NaN  NaN   \n",
      "Performing Arts                          0.0   NaN  NaN  NaN  NaN  NaN  NaN   \n",
      "Social/Meeting Hall                      0.0   NaN  NaN  NaN  NaN  NaN  NaN   \n",
      "Stadium (Open)                           0.0   NaN  NaN  NaN  NaN  NaN  NaN   \n",
      "\n",
      "                                       max  \n",
      "Primary Property Type                       \n",
      "Convention Center                      NaN  \n",
      "Ice/Curling Rink                       NaN  \n",
      "Indoor Arena                           NaN  \n",
      "Movie Theater                          NaN  \n",
      "Museum                                 NaN  \n",
      "Other - Entertainment/Public Assembly  NaN  \n",
      "Other - Recreation                     NaN  \n",
      "Performing Arts                        NaN  \n",
      "Social/Meeting Hall                    NaN  \n",
      "Stadium (Open)                         NaN  \n",
      "                                       count  mean  std  min  25%  50%  75%  \\\n",
      "Primary Property Type                                                         \n",
      "Convention Center                        0.0   NaN  NaN  NaN  NaN  NaN  NaN   \n",
      "Ice/Curling Rink                         0.0   NaN  NaN  NaN  NaN  NaN  NaN   \n",
      "Indoor Arena                             0.0   NaN  NaN  NaN  NaN  NaN  NaN   \n",
      "Movie Theater                            0.0   NaN  NaN  NaN  NaN  NaN  NaN   \n",
      "Museum                                   0.0   NaN  NaN  NaN  NaN  NaN  NaN   \n",
      "Other - Entertainment/Public Assembly    0.0   NaN  NaN  NaN  NaN  NaN  NaN   \n",
      "Other - Recreation                       0.0   NaN  NaN  NaN  NaN  NaN  NaN   \n",
      "Performing Arts                          0.0   NaN  NaN  NaN  NaN  NaN  NaN   \n",
      "Social/Meeting Hall                      0.0   NaN  NaN  NaN  NaN  NaN  NaN   \n",
      "Stadium (Open)                           0.0   NaN  NaN  NaN  NaN  NaN  NaN   \n",
      "\n",
      "                                       max  \n",
      "Primary Property Type                       \n",
      "Convention Center                      NaN  \n",
      "Ice/Curling Rink                       NaN  \n",
      "Indoor Arena                           NaN  \n",
      "Movie Theater                          NaN  \n",
      "Museum                                 NaN  \n",
      "Other - Entertainment/Public Assembly  NaN  \n",
      "Other - Recreation                     NaN  \n",
      "Performing Arts                        NaN  \n",
      "Social/Meeting Hall                    NaN  \n",
      "Stadium (Open)                         NaN  \n",
      "                                       count  mean  std  min  25%  50%  75%  \\\n",
      "Primary Property Type                                                         \n",
      "Convention Center                        0.0   NaN  NaN  NaN  NaN  NaN  NaN   \n",
      "Ice/Curling Rink                         0.0   NaN  NaN  NaN  NaN  NaN  NaN   \n",
      "Indoor Arena                             0.0   NaN  NaN  NaN  NaN  NaN  NaN   \n",
      "Movie Theater                            0.0   NaN  NaN  NaN  NaN  NaN  NaN   \n",
      "Museum                                   0.0   NaN  NaN  NaN  NaN  NaN  NaN   \n",
      "Other - Entertainment/Public Assembly    0.0   NaN  NaN  NaN  NaN  NaN  NaN   \n",
      "Other - Recreation                       0.0   NaN  NaN  NaN  NaN  NaN  NaN   \n",
      "Performing Arts                          0.0   NaN  NaN  NaN  NaN  NaN  NaN   \n",
      "Social/Meeting Hall                      0.0   NaN  NaN  NaN  NaN  NaN  NaN   \n",
      "Stadium (Open)                           0.0   NaN  NaN  NaN  NaN  NaN  NaN   \n",
      "\n",
      "                                       max  \n",
      "Primary Property Type                       \n",
      "Convention Center                      NaN  \n",
      "Ice/Curling Rink                       NaN  \n",
      "Indoor Arena                           NaN  \n",
      "Movie Theater                          NaN  \n",
      "Museum                                 NaN  \n",
      "Other - Entertainment/Public Assembly  NaN  \n",
      "Other - Recreation                     NaN  \n",
      "Performing Arts                        NaN  \n",
      "Social/Meeting Hall                    NaN  \n",
      "Stadium (Open)                         NaN  \n",
      "                                       count  mean  std  min  25%  50%  75%  \\\n",
      "Primary Property Type                                                         \n",
      "Convention Center                        0.0   NaN  NaN  NaN  NaN  NaN  NaN   \n",
      "Ice/Curling Rink                         0.0   NaN  NaN  NaN  NaN  NaN  NaN   \n",
      "Indoor Arena                             0.0   NaN  NaN  NaN  NaN  NaN  NaN   \n",
      "Movie Theater                            0.0   NaN  NaN  NaN  NaN  NaN  NaN   \n",
      "Museum                                   0.0   NaN  NaN  NaN  NaN  NaN  NaN   \n",
      "Other - Entertainment/Public Assembly    0.0   NaN  NaN  NaN  NaN  NaN  NaN   \n",
      "Other - Recreation                       0.0   NaN  NaN  NaN  NaN  NaN  NaN   \n",
      "Performing Arts                          0.0   NaN  NaN  NaN  NaN  NaN  NaN   \n",
      "Social/Meeting Hall                      0.0   NaN  NaN  NaN  NaN  NaN  NaN   \n",
      "Stadium (Open)                           0.0   NaN  NaN  NaN  NaN  NaN  NaN   \n",
      "\n",
      "                                       max  \n",
      "Primary Property Type                       \n",
      "Convention Center                      NaN  \n",
      "Ice/Curling Rink                       NaN  \n",
      "Indoor Arena                           NaN  \n",
      "Movie Theater                          NaN  \n",
      "Museum                                 NaN  \n",
      "Other - Entertainment/Public Assembly  NaN  \n",
      "Other - Recreation                     NaN  \n",
      "Performing Arts                        NaN  \n",
      "Social/Meeting Hall                    NaN  \n",
      "Stadium (Open)                         NaN  \n",
      "                                       count  mean  std  min  25%  50%  75%  \\\n",
      "Primary Property Type                                                         \n",
      "Convention Center                        0.0   NaN  NaN  NaN  NaN  NaN  NaN   \n",
      "Ice/Curling Rink                         0.0   NaN  NaN  NaN  NaN  NaN  NaN   \n",
      "Indoor Arena                             0.0   NaN  NaN  NaN  NaN  NaN  NaN   \n",
      "Movie Theater                            0.0   NaN  NaN  NaN  NaN  NaN  NaN   \n",
      "Museum                                   0.0   NaN  NaN  NaN  NaN  NaN  NaN   \n",
      "Other - Entertainment/Public Assembly    0.0   NaN  NaN  NaN  NaN  NaN  NaN   \n",
      "Other - Recreation                       0.0   NaN  NaN  NaN  NaN  NaN  NaN   \n",
      "Performing Arts                          0.0   NaN  NaN  NaN  NaN  NaN  NaN   \n",
      "Social/Meeting Hall                      0.0   NaN  NaN  NaN  NaN  NaN  NaN   \n",
      "Stadium (Open)                           0.0   NaN  NaN  NaN  NaN  NaN  NaN   \n",
      "\n",
      "                                       max  \n",
      "Primary Property Type                       \n",
      "Convention Center                      NaN  \n",
      "Ice/Curling Rink                       NaN  \n",
      "Indoor Arena                           NaN  \n",
      "Movie Theater                          NaN  \n",
      "Museum                                 NaN  \n",
      "Other - Entertainment/Public Assembly  NaN  \n",
      "Other - Recreation                     NaN  \n",
      "Performing Arts                        NaN  \n",
      "Social/Meeting Hall                    NaN  \n"
     ]
    },
    {
     "name": "stdout",
     "output_type": "stream",
     "text": [
      "Stadium (Open)                         NaN  \n",
      "                                       count       mean        std   min  \\\n",
      "Primary Property Type                                                      \n",
      "Convention Center                        5.0  12.326000   0.547613  11.6   \n",
      "Ice/Curling Rink                         1.0  17.900000        NaN  17.9   \n",
      "Indoor Arena                             4.0  12.450000  11.146748   2.5   \n",
      "Movie Theater                           12.0  23.050000   3.694591  17.6   \n",
      "Museum                                  24.0  15.459583   7.126264   6.2   \n",
      "Other - Entertainment/Public Assembly   23.0  11.186087   5.279058   4.4   \n",
      "Other - Recreation                      66.0  11.387879   4.895414   5.1   \n",
      "Performing Arts                         22.0  34.590909  89.612010   7.0   \n",
      "Social/Meeting Hall                      9.0  11.655556   4.753449   7.2   \n",
      "Stadium (Open)                           1.0  14.700000        NaN  14.7   \n",
      "\n",
      "                                          25%    50%     75%     max  \n",
      "Primary Property Type                                                 \n",
      "Convention Center                      11.900  12.53  12.800   12.80  \n",
      "Ice/Curling Rink                       17.900  17.90  17.900   17.90  \n",
      "Indoor Arena                            2.950  12.50  22.000   22.30  \n",
      "Movie Theater                          20.950  22.90  24.225   32.30  \n",
      "Museum                                  8.425  13.65  21.850   27.23  \n",
      "Other - Entertainment/Public Assembly   7.700  10.20  13.300   23.30  \n",
      "Other - Recreation                      7.375  10.75  14.550   27.00  \n",
      "Performing Arts                        10.000  14.50  17.000  434.40  \n",
      "Social/Meeting Hall                     7.800  10.50  17.300   18.60  \n",
      "Stadium (Open)                         14.700  14.70  14.700   14.70  \n"
     ]
    }
   ],
   "source": [
    "#Descriptive stats grouped by property type for each of the 7 variables being considered: Water Use (kGal), Electricity Use (kBtu), Natural Gas Use (kBtu), District Steam Use (kBtu),District Chilled Water Use (kBtu), All Other Fuel Use (kBtu),GHG Intensity (kg CO2e/sq ft)   \n",
    "     \n",
    "    \n",
    "print(df.groupby('Primary Property Type')[\"Water Use (kGal)\"].describe())\n",
    "print(df.groupby('Primary Property Type')[\"Electricity Use (kBtu)\"].describe())\n",
    "print(df.groupby('Primary Property Type')[\"Natural Gas Use (kBtu)\"].describe())\n",
    "print(df.groupby('Primary Property Type')[\"District Steam Use (kBtu)\"].describe())\n",
    "print(df.groupby('Primary Property Type')[\"District Chilled Water Use (kBtu)\"].describe())\n",
    "print(df.groupby('Primary Property Type')[\"All Other Fuel Use (kBtu)\"].describe())\n",
    "print(df.groupby('Primary Property Type')[\"GHG Intensity (kg CO2e/sq ft)\"].describe())"
   ]
  },
  {
   "cell_type": "markdown",
   "metadata": {},
   "source": [
    "### Step 4b: Visual"
   ]
  },
  {
   "cell_type": "code",
   "execution_count": 15,
   "metadata": {},
   "outputs": [
    {
     "data": {
      "image/png": "[encoded data removed]",
      "text/plain": [
       "<Figure size 432x288 with 1 Axes>"
      ]
     },
     "metadata": {
      "needs_background": "light"
     },
     "output_type": "display_data"
    }
   ],
   "source": [
    "#Remove Outliers\n",
    "Q1 = df.quantile(q=0.25, axis=0, numeric_only=True, interpolation=\"linear\")\n",
    "\n",
    "Q3 = df.quantile(q=0.75, axis=0, numeric_only=True, interpolation=\"linear\")\n",
    "\n",
    "IQR = Q3-Q1\n",
    "\n",
    "df_out = df[~((df < (Q1 - 1.5 * IQR)) |(df > (Q3 + 1.5 * IQR))).any(axis=1)]\n",
    "\n",
    "#Create Boxplot for GHG intensity\n",
    "boxplot1 = sns.boxplot(x=\"GHG Intensity (kg CO2e/sq ft)\", y=(\"Primary Property Type\"), data=df_out).set_title('Greenhouse Gas Intensities by Property Type')\n",
    "\n"
   ]
  },
  {
   "cell_type": "markdown",
   "metadata": {},
   "source": [
    "### \"Other - Entertainment/Public Assembly\" spaces have the lowest median green house gas intensities!"
   ]
  },
  {
   "cell_type": "markdown",
   "metadata": {},
   "source": [
    "---------------------------------------------------------------------------"
   ]
  },
  {
   "cell_type": "markdown",
   "metadata": {},
   "source": [
    "## Step 4c: Identify the individual properties/ businesses that are the most environmentally friendly.\n"
   ]
  },
  {
   "cell_type": "code",
   "execution_count": 16,
   "metadata": {
    "scrolled": false
   },
   "outputs": [],
   "source": [
    "#Create a new dataframe with only this property type. \n",
    "query = \"Other - Entertainment/Public Assembly\" \n",
    "\n",
    "df1 = df[df['Primary Property Type'] == query]\n"
   ]
  },
  {
   "cell_type": "code",
   "execution_count": 17,
   "metadata": {},
   "outputs": [
    {
     "data": {
      "image/png": "[encoded data removed]",
      "text/plain": [
       "<Figure size 432x288 with 1 Axes>"
      ]
     },
     "metadata": {
      "needs_background": "light"
     },
     "output_type": "display_data"
    }
   ],
   "source": [
    "#Note: There were three years of data for each property.\n",
    "boxplot2 = sns.boxplot(x=\"GHG Intensity (kg CO2e/sq ft)\", y=(\"Property Name\"), data=df1).set_title('Greenhouse Gas Intensities within Other - Entertainment/Public Assembly Property Type')\n"
   ]
  },
  {
   "cell_type": "markdown",
   "metadata": {},
   "source": [
    "## The Chicago Theatre has the lowest GHG intensity!"
   ]
  },
  {
   "cell_type": "markdown",
   "metadata": {},
   "source": [
    "---------------------------------------------------------------------------"
   ]
  },
  {
   "cell_type": "markdown",
   "metadata": {},
   "source": [
    "# Step 5: Insights\n",
    "## Other - Entertainment/Public Assembly spaces produce the least intense GHG/sq ft\n",
    "    - Chicago cultural arts supporters should invest in this realm of the entertainment industry. Note that this property type has the lowest median GHG intensity, although Indoor Arenas do represent the minimum.\n",
    " "
   ]
  },
  {
   "cell_type": "code",
   "execution_count": 18,
   "metadata": {},
   "outputs": [
    {
     "data": {
      "image/png": "[encoded data removed]",
      "text/plain": [
       "<Figure size 432x288 with 1 Axes>"
      ]
     },
     "metadata": {
      "needs_background": "light"
     },
     "output_type": "display_data"
    }
   ],
   "source": [
    "boxplot1 = sns.boxplot(x=\"GHG Intensity (kg CO2e/sq ft)\", y=(\"Primary Property Type\"), data=df_out).set_title('Greenhouse Gas Intensities by Property Type')\n"
   ]
  },
  {
   "cell_type": "markdown",
   "metadata": {},
   "source": [
    "## The Chicago Theater is the most environmentally-friendly space in the entertainment realm of Chicago\n",
    "    - This establishment should be the most monetarily supported."
   ]
  },
  {
   "cell_type": "code",
   "execution_count": 19,
   "metadata": {
    "scrolled": false
   },
   "outputs": [
    {
     "data": {
      "image/png": "[encoded data removed]",
      "text/plain": [
       "<Figure size 432x288 with 1 Axes>"
      ]
     },
     "metadata": {
      "needs_background": "light"
     },
     "output_type": "display_data"
    }
   ],
   "source": [
    "boxplot2 = sns.boxplot(x=\"GHG Intensity (kg CO2e/sq ft)\", y=(\"Property Name\"), data=df1).set_title('Greenhouse Gas Intensities within Other - Entertainment/Public Assembly Property Type')\n"
   ]
  },
  {
   "cell_type": "markdown",
   "metadata": {},
   "source": [
    "# Change the Property Name in the second line of code below to check out GHG intensities over time for different companies. "
   ]
  },
  {
   "cell_type": "code",
   "execution_count": 23,
   "metadata": {
    "scrolled": false
   },
   "outputs": [
    {
     "data": {
      "text/plain": [
       "<matplotlib.axes._subplots.AxesSubplot at 0x7fc3e119e4d0>"
      ]
     },
     "execution_count": 23,
     "metadata": {},
     "output_type": "execute_result"
    },
    {
     "data": {
      "image/png": "[encoded data removed]",
      "text/plain": [
       "<Figure size 432x288 with 1 Axes>"
      ]
     },
     "metadata": {
      "needs_background": "light"
     },
     "output_type": "display_data"
    }
   ],
   "source": [
    "df2 = df1.loc[:, ['Property Name', 'Data Year', 'GHG Intensity (kg CO2e/sq ft)']]\n",
    "\n",
    "df2[['Property Name', 'Data Year', 'GHG Intensity (kg CO2e/sq ft)']].loc[df2['Property Name'] == 'The Chicago Theater']\n",
    "\n",
    "sns.barplot(x= 'Data Year', y= 'GHG Intensity (kg CO2e/sq ft)', data=df2)"
   ]
  },
  {
   "cell_type": "markdown",
   "metadata": {},
   "source": [
    "# Use the function below to print GHG intensities for different companies and different years."
   ]
  },
  {
   "cell_type": "code",
   "execution_count": 47,
   "metadata": {},
   "outputs": [
    {
     "name": "stdout",
     "output_type": "stream",
     "text": [
      "22.5\n"
     ]
    }
   ],
   "source": [
    "def GHG_Intensity(PropertyName, Year):\n",
    "    Intensity = df[(df['Property Name']==PropertyName) & (df['Data Year']==Year)]['GHG Intensity (kg CO2e/sq ft)'].to_list()\n",
    "    return Intensity[0] if len(Intensity) else 'GHG Intensity Not Available'\n",
    "\n",
    "print(GHG_Intensity('Navy Pier, Inc.', 2016))"
   ]
  }
 ],
 "metadata": {
  "celltoolbar": "Raw Cell Format",
  "kernelspec": {
   "display_name": "Python 3",
   "language": "python",
   "name": "python3"
  },
  "language_info": {
   "codemirror_mode": {
    "name": "ipython",
    "version": 3
   },
   "file_extension": ".py",
   "mimetype": "text/x-python",
   "name": "python",
   "nbconvert_exporter": "python",
   "pygments_lexer": "ipython3",
   "version": "3.7.6"
  }
 },
 "nbformat": 4,
 "nbformat_minor": 4
}
